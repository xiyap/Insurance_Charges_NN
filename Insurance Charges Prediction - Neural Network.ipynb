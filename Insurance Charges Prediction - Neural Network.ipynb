{
 "cells": [
  {
   "cell_type": "markdown",
   "id": "73b42d58",
   "metadata": {},
   "source": [
    "# <center>Insurance Charges Prediction - Neural Network</center>\n",
    "\n",
    "<hr style=\"border: none; border-top: 1px solid #000;\">\n",
    "\n",
    "<center>\n",
    "    <span>\n",
    "        Created by <b>Ian Yap</b>\n",
    "        &emsp;|&emsp;\n",
    "        Data from <a href=\"https://www.kaggle.com/datasets/mirichoi0218/insurance\"><b>Kaggle</b></a>\n",
    "        &nbsp;\n",
    "    </span>\n",
    "</center>\n",
    "\n",
    "<br>\n",
    "\n",
    "<center>\n",
    "    <span>\n",
    "        <a href=\"https://www.linkedin.com/in/ian-yap-052870139/\"><b>LinkedIn</b></a>\n",
    "        &emsp;|&emsp;\n",
    "        <a href=\"https://xiyap.github.io/\"><b>Portfolio</b></a>\n",
    "    </span>\n",
    "</center>\n",
    "    \n",
    "<hr style=\"border: none; border-top: 1px solid #000;\">\n"
   ]
  },
  {
   "cell_type": "markdown",
   "id": "7fe2f951",
   "metadata": {},
   "source": [
    "## Table of Contents\n",
    "\n",
    "1. [Background](#Background)\n",
    "2. [Feature Information](#Feature_Information)\n",
    "3. [Import Libraries](#Import_Libraries)\n",
    "4. [Data Loading](#Data_Loading)\n",
    "5. [Feature Engineering](#Feature_Engineering)\n",
    "6. [Data Preparation](#Data_Preparation)\n",
    "7. [Neural Network Model](#Neural_Network_Model)\n",
    "8. [Model Comparison](#Model_Comparison)\n",
    "9. [Conclusion](#Conclusion)"
   ]
  },
  {
   "cell_type": "markdown",
   "id": "0017e34b",
   "metadata": {},
   "source": [
    "## <a id='Background' href=#1> Background </a>\n",
    "\n",
    "This project is a continuation of a past project which can be found [**HERE**](https://github.com/xiyap/Insurance_Charges_Regression/blob/main/Insurance%20Charges%20Prediction%20-%20EDA%20%2B%20ML%20Regression.ipynb). \n",
    "\n",
    "In the initial project, the the following have been performed:\n",
    "1. Performed EDA to gain insights on the dataset to identify determining factors which impacts an individuals medical costs.\n",
    "2. Assisted insurance agents in determining the suitable health insurance plan and premium for a customer based on their health features.\n",
    "3. Aided insurance companies in developing and updating product portfolios to seamlessly align with the evolving needs of the present era.\n",
    "4. Developed a predictive model which can predict the potential medical costs of a prospective policyholder.\n",
    "\n",
    "For this project, we will attempt to improve the accuracy of the initial predictive model which utilized **traditional machine learning algorithms** by developing a model using **Neural Network**.\n",
    "\n",
    "This model will utilize the dataset to predict the potential medical cost of policyholders. A high accuracy model is crucial for insurance companies to accurately determine the medical cost as an oversight in assessing an individuals health risk could result in financial losses from incorrect premium charges."
   ]
  },
  {
   "cell_type": "markdown",
   "id": "238975bd",
   "metadata": {},
   "source": [
    "## <a id='Feature_Information' href=#1> Feature Information </a>\n",
    "\n",
    "The dataset contains following info:\n",
    "- **age**: Age of policyholder\n",
    "- **sex**: Gender of policyholder\n",
    "- **bmi**: Body mass index (BMI) of policyholder\n",
    "- **children**: Number of children/dependents covered by health insurance\n",
    "- **smoker**: Is the policyholder a smoker? (Yes/No)\n",
    "- **region**: Region in US where the policyholder resides\n",
    "- **charges**: Individual medical costs billed by health insurance"
   ]
  },
  {
   "cell_type": "markdown",
   "id": "065ce0a8",
   "metadata": {},
   "source": [
    "## <a id='Import_Libraries' href=#1> Import Libraries </a>"
   ]
  },
  {
   "cell_type": "code",
   "execution_count": 1,
   "id": "61475be4",
   "metadata": {},
   "outputs": [],
   "source": [
    "import tensorflow as tf\n",
    "import cv2\n",
    "import pandas as pd\n",
    "import numpy as np\n",
    "import matplotlib.pyplot as plt\n",
    "import seaborn as sns\n",
    "%matplotlib inline\n",
    "import warnings\n",
    "warnings.filterwarnings('ignore')"
   ]
  },
  {
   "cell_type": "code",
   "execution_count": 2,
   "id": "b6a441d5",
   "metadata": {},
   "outputs": [],
   "source": [
    "import random\n",
    "\n",
    "seed = 101\n",
    "random.seed(seed)\n",
    "np.random.seed(seed)\n",
    "tf.random.set_seed(seed)"
   ]
  },
  {
   "cell_type": "markdown",
   "id": "d7cba307",
   "metadata": {},
   "source": [
    "## <a id='Data_Loading' href=#1> Data Loading </a>"
   ]
  },
  {
   "cell_type": "markdown",
   "id": "15b4e010",
   "metadata": {},
   "source": [
    "Load raw data from GitHub for model development."
   ]
  },
  {
   "cell_type": "code",
   "execution_count": 3,
   "id": "a5992c1e",
   "metadata": {},
   "outputs": [],
   "source": [
    "df_ori = pd.read_csv('https://raw.githubusercontent.com/stedy/Machine-Learning-with-R-datasets/master/insurance.csv')"
   ]
  },
  {
   "cell_type": "code",
   "execution_count": 4,
   "id": "cdac4d41",
   "metadata": {},
   "outputs": [],
   "source": [
    "df = df_ori.copy()"
   ]
  },
  {
   "cell_type": "code",
   "execution_count": 5,
   "id": "6c3e8078",
   "metadata": {
    "scrolled": true
   },
   "outputs": [
    {
     "data": {
      "text/plain": [
       "Index(['age', 'sex', 'bmi', 'children', 'smoker', 'region', 'charges'], dtype='object')"
      ]
     },
     "execution_count": 5,
     "metadata": {},
     "output_type": "execute_result"
    }
   ],
   "source": [
    "df.columns"
   ]
  },
  {
   "cell_type": "code",
   "execution_count": 6,
   "id": "535bbb5a",
   "metadata": {
    "scrolled": true
   },
   "outputs": [
    {
     "data": {
      "text/html": [
       "<div>\n",
       "<style scoped>\n",
       "    .dataframe tbody tr th:only-of-type {\n",
       "        vertical-align: middle;\n",
       "    }\n",
       "\n",
       "    .dataframe tbody tr th {\n",
       "        vertical-align: top;\n",
       "    }\n",
       "\n",
       "    .dataframe thead th {\n",
       "        text-align: right;\n",
       "    }\n",
       "</style>\n",
       "<table border=\"1\" class=\"dataframe\">\n",
       "  <thead>\n",
       "    <tr style=\"text-align: right;\">\n",
       "      <th></th>\n",
       "      <th>age</th>\n",
       "      <th>sex</th>\n",
       "      <th>bmi</th>\n",
       "      <th>children</th>\n",
       "      <th>smoker</th>\n",
       "      <th>region</th>\n",
       "      <th>charges</th>\n",
       "    </tr>\n",
       "  </thead>\n",
       "  <tbody>\n",
       "    <tr>\n",
       "      <th>0</th>\n",
       "      <td>19</td>\n",
       "      <td>female</td>\n",
       "      <td>27.900</td>\n",
       "      <td>0</td>\n",
       "      <td>yes</td>\n",
       "      <td>southwest</td>\n",
       "      <td>16884.92400</td>\n",
       "    </tr>\n",
       "    <tr>\n",
       "      <th>1</th>\n",
       "      <td>18</td>\n",
       "      <td>male</td>\n",
       "      <td>33.770</td>\n",
       "      <td>1</td>\n",
       "      <td>no</td>\n",
       "      <td>southeast</td>\n",
       "      <td>1725.55230</td>\n",
       "    </tr>\n",
       "    <tr>\n",
       "      <th>2</th>\n",
       "      <td>28</td>\n",
       "      <td>male</td>\n",
       "      <td>33.000</td>\n",
       "      <td>3</td>\n",
       "      <td>no</td>\n",
       "      <td>southeast</td>\n",
       "      <td>4449.46200</td>\n",
       "    </tr>\n",
       "    <tr>\n",
       "      <th>3</th>\n",
       "      <td>33</td>\n",
       "      <td>male</td>\n",
       "      <td>22.705</td>\n",
       "      <td>0</td>\n",
       "      <td>no</td>\n",
       "      <td>northwest</td>\n",
       "      <td>21984.47061</td>\n",
       "    </tr>\n",
       "    <tr>\n",
       "      <th>4</th>\n",
       "      <td>32</td>\n",
       "      <td>male</td>\n",
       "      <td>28.880</td>\n",
       "      <td>0</td>\n",
       "      <td>no</td>\n",
       "      <td>northwest</td>\n",
       "      <td>3866.85520</td>\n",
       "    </tr>\n",
       "  </tbody>\n",
       "</table>\n",
       "</div>"
      ],
      "text/plain": [
       "   age     sex     bmi  children smoker     region      charges\n",
       "0   19  female  27.900         0    yes  southwest  16884.92400\n",
       "1   18    male  33.770         1     no  southeast   1725.55230\n",
       "2   28    male  33.000         3     no  southeast   4449.46200\n",
       "3   33    male  22.705         0     no  northwest  21984.47061\n",
       "4   32    male  28.880         0     no  northwest   3866.85520"
      ]
     },
     "execution_count": 6,
     "metadata": {},
     "output_type": "execute_result"
    }
   ],
   "source": [
    "df.head()"
   ]
  },
  {
   "cell_type": "markdown",
   "id": "98ac1f38",
   "metadata": {},
   "source": [
    "## <a id='Feature_Engineering' href=#1> Feature Engineering </a>"
   ]
  },
  {
   "cell_type": "markdown",
   "id": "c8357832",
   "metadata": {},
   "source": [
    "Perform data wrangling to clean the data so that it is suitable for the predictive model.\n",
    "\n",
    "Check for any duplicated data:"
   ]
  },
  {
   "cell_type": "code",
   "execution_count": 7,
   "id": "501e0fce",
   "metadata": {},
   "outputs": [
    {
     "name": "stdout",
     "output_type": "stream",
     "text": [
      "Number of duplicated rows: 1\n",
      "Number of duplicated rows after dropping: 0\n"
     ]
    }
   ],
   "source": [
    "print(f'Number of duplicated rows: {df.duplicated().sum()}')\n",
    "df.drop_duplicates(inplace = True)\n",
    "print(f'Number of duplicated rows after dropping: {df.duplicated().sum()}')"
   ]
  },
  {
   "cell_type": "markdown",
   "id": "ded0b608",
   "metadata": {},
   "source": [
    "Check the shape and status of the data:"
   ]
  },
  {
   "cell_type": "code",
   "execution_count": 8,
   "id": "978af5fa",
   "metadata": {
    "scrolled": false
   },
   "outputs": [
    {
     "name": "stdout",
     "output_type": "stream",
     "text": [
      "<class 'pandas.core.frame.DataFrame'>\n",
      "Index: 1337 entries, 0 to 1337\n",
      "Data columns (total 7 columns):\n",
      " #   Column    Non-Null Count  Dtype  \n",
      "---  ------    --------------  -----  \n",
      " 0   age       1337 non-null   int64  \n",
      " 1   sex       1337 non-null   object \n",
      " 2   bmi       1337 non-null   float64\n",
      " 3   children  1337 non-null   int64  \n",
      " 4   smoker    1337 non-null   object \n",
      " 5   region    1337 non-null   object \n",
      " 6   charges   1337 non-null   float64\n",
      "dtypes: float64(2), int64(2), object(3)\n",
      "memory usage: 83.6+ KB\n"
     ]
    }
   ],
   "source": [
    "df.info()"
   ]
  },
  {
   "cell_type": "markdown",
   "id": "d6e0c3bd",
   "metadata": {},
   "source": [
    "Our data has 1337 rows, 7 columns, no missing data and the data types of each attributes are correct."
   ]
  },
  {
   "cell_type": "markdown",
   "id": "802d3b67",
   "metadata": {},
   "source": [
    "## <a id='Data_Preparation' href=#1> Data Preparation </a>"
   ]
  },
  {
   "cell_type": "markdown",
   "id": "100e0152",
   "metadata": {},
   "source": [
    "Prepare the data for model development."
   ]
  },
  {
   "cell_type": "markdown",
   "id": "67d686db",
   "metadata": {},
   "source": [
    "Transform columns:"
   ]
  },
  {
   "cell_type": "code",
   "execution_count": 9,
   "id": "7487b628",
   "metadata": {},
   "outputs": [
    {
     "data": {
      "text/html": [
       "<div>\n",
       "<style scoped>\n",
       "    .dataframe tbody tr th:only-of-type {\n",
       "        vertical-align: middle;\n",
       "    }\n",
       "\n",
       "    .dataframe tbody tr th {\n",
       "        vertical-align: top;\n",
       "    }\n",
       "\n",
       "    .dataframe thead th {\n",
       "        text-align: right;\n",
       "    }\n",
       "</style>\n",
       "<table border=\"1\" class=\"dataframe\">\n",
       "  <thead>\n",
       "    <tr style=\"text-align: right;\">\n",
       "      <th></th>\n",
       "      <th>age</th>\n",
       "      <th>bmi</th>\n",
       "      <th>children</th>\n",
       "      <th>charges</th>\n",
       "      <th>sex_female</th>\n",
       "      <th>sex_male</th>\n",
       "      <th>smoker_no</th>\n",
       "      <th>smoker_yes</th>\n",
       "      <th>region_northeast</th>\n",
       "      <th>region_northwest</th>\n",
       "      <th>region_southeast</th>\n",
       "      <th>region_southwest</th>\n",
       "    </tr>\n",
       "  </thead>\n",
       "  <tbody>\n",
       "    <tr>\n",
       "      <th>0</th>\n",
       "      <td>19</td>\n",
       "      <td>27.900</td>\n",
       "      <td>0</td>\n",
       "      <td>16884.92400</td>\n",
       "      <td>True</td>\n",
       "      <td>False</td>\n",
       "      <td>False</td>\n",
       "      <td>True</td>\n",
       "      <td>False</td>\n",
       "      <td>False</td>\n",
       "      <td>False</td>\n",
       "      <td>True</td>\n",
       "    </tr>\n",
       "    <tr>\n",
       "      <th>1</th>\n",
       "      <td>18</td>\n",
       "      <td>33.770</td>\n",
       "      <td>1</td>\n",
       "      <td>1725.55230</td>\n",
       "      <td>False</td>\n",
       "      <td>True</td>\n",
       "      <td>True</td>\n",
       "      <td>False</td>\n",
       "      <td>False</td>\n",
       "      <td>False</td>\n",
       "      <td>True</td>\n",
       "      <td>False</td>\n",
       "    </tr>\n",
       "    <tr>\n",
       "      <th>2</th>\n",
       "      <td>28</td>\n",
       "      <td>33.000</td>\n",
       "      <td>3</td>\n",
       "      <td>4449.46200</td>\n",
       "      <td>False</td>\n",
       "      <td>True</td>\n",
       "      <td>True</td>\n",
       "      <td>False</td>\n",
       "      <td>False</td>\n",
       "      <td>False</td>\n",
       "      <td>True</td>\n",
       "      <td>False</td>\n",
       "    </tr>\n",
       "    <tr>\n",
       "      <th>3</th>\n",
       "      <td>33</td>\n",
       "      <td>22.705</td>\n",
       "      <td>0</td>\n",
       "      <td>21984.47061</td>\n",
       "      <td>False</td>\n",
       "      <td>True</td>\n",
       "      <td>True</td>\n",
       "      <td>False</td>\n",
       "      <td>False</td>\n",
       "      <td>True</td>\n",
       "      <td>False</td>\n",
       "      <td>False</td>\n",
       "    </tr>\n",
       "    <tr>\n",
       "      <th>4</th>\n",
       "      <td>32</td>\n",
       "      <td>28.880</td>\n",
       "      <td>0</td>\n",
       "      <td>3866.85520</td>\n",
       "      <td>False</td>\n",
       "      <td>True</td>\n",
       "      <td>True</td>\n",
       "      <td>False</td>\n",
       "      <td>False</td>\n",
       "      <td>True</td>\n",
       "      <td>False</td>\n",
       "      <td>False</td>\n",
       "    </tr>\n",
       "  </tbody>\n",
       "</table>\n",
       "</div>"
      ],
      "text/plain": [
       "   age     bmi  children      charges  sex_female  sex_male  smoker_no  \\\n",
       "0   19  27.900         0  16884.92400        True     False      False   \n",
       "1   18  33.770         1   1725.55230       False      True       True   \n",
       "2   28  33.000         3   4449.46200       False      True       True   \n",
       "3   33  22.705         0  21984.47061       False      True       True   \n",
       "4   32  28.880         0   3866.85520       False      True       True   \n",
       "\n",
       "   smoker_yes  region_northeast  region_northwest  region_southeast  \\\n",
       "0        True             False             False             False   \n",
       "1       False             False             False              True   \n",
       "2       False             False             False              True   \n",
       "3       False             False              True             False   \n",
       "4       False             False              True             False   \n",
       "\n",
       "   region_southwest  \n",
       "0              True  \n",
       "1             False  \n",
       "2             False  \n",
       "3             False  \n",
       "4             False  "
      ]
     },
     "execution_count": 9,
     "metadata": {},
     "output_type": "execute_result"
    }
   ],
   "source": [
    "df_dummy = pd.get_dummies(df)\n",
    "df_dummy.head()"
   ]
  },
  {
   "cell_type": "code",
   "execution_count": 10,
   "id": "9027e1f1",
   "metadata": {},
   "outputs": [],
   "source": [
    "X = df_dummy.drop('charges', axis = 1)\n",
    "y = df_dummy['charges']"
   ]
  },
  {
   "cell_type": "markdown",
   "id": "dbdb6bf6",
   "metadata": {},
   "source": [
    "Split data into train, validation and test set:"
   ]
  },
  {
   "cell_type": "code",
   "execution_count": 11,
   "id": "c4b32646",
   "metadata": {},
   "outputs": [],
   "source": [
    "from sklearn.model_selection import train_test_split\n",
    "\n",
    "X_train, X_temp, y_train, y_temp = train_test_split(X, y, test_size = 0.2, random_state = 101)\n",
    "X_val, X_test, y_val, y_test = train_test_split(X_temp, y_temp, test_size = 0.5, random_state = 101)"
   ]
  },
  {
   "cell_type": "markdown",
   "id": "3b102cef",
   "metadata": {},
   "source": [
    "Normalize input data:"
   ]
  },
  {
   "cell_type": "code",
   "execution_count": 12,
   "id": "b980dadc",
   "metadata": {},
   "outputs": [],
   "source": [
    "# Neural network prefers normalization\n",
    "from sklearn.preprocessing import MinMaxScaler\n",
    "\n",
    "scaler = MinMaxScaler()\n",
    "norm_X_train = scaler.fit_transform(X_train)\n",
    "norm_X_val = scaler.fit_transform(X_val)\n",
    "norm_X_test = scaler.fit_transform(X_test)"
   ]
  },
  {
   "cell_type": "code",
   "execution_count": 13,
   "id": "0f97e4cb",
   "metadata": {},
   "outputs": [
    {
     "data": {
      "text/plain": [
       "((1337, 11), (1069, 11), (134, 11), (134, 11))"
      ]
     },
     "execution_count": 13,
     "metadata": {},
     "output_type": "execute_result"
    }
   ],
   "source": [
    "X.shape, norm_X_train.shape, norm_X_val.shape, norm_X_test.shape"
   ]
  },
  {
   "cell_type": "markdown",
   "id": "585a0012",
   "metadata": {},
   "source": [
    "### <a id='Neural_Network_Model' href=#1> Neural Network Model </a>"
   ]
  },
  {
   "cell_type": "markdown",
   "id": "39f3e793",
   "metadata": {},
   "source": [
    "Dense neural network for regression:"
   ]
  },
  {
   "cell_type": "code",
   "execution_count": 14,
   "id": "9a0cd608",
   "metadata": {},
   "outputs": [
    {
     "name": "stdout",
     "output_type": "stream",
     "text": [
      "Model: \"sequential\"\n",
      "_________________________________________________________________\n",
      " Layer (type)                Output Shape              Param #   \n",
      "=================================================================\n",
      " dense (Dense)               (None, 128)               1536      \n",
      "                                                                 \n",
      " dense_1 (Dense)             (None, 64)                8256      \n",
      "                                                                 \n",
      " dropout (Dropout)           (None, 64)                0         \n",
      "                                                                 \n",
      " dense_2 (Dense)             (None, 32)                2080      \n",
      "                                                                 \n",
      " dropout_1 (Dropout)         (None, 32)                0         \n",
      "                                                                 \n",
      " dense_3 (Dense)             (None, 1)                 33        \n",
      "                                                                 \n",
      "=================================================================\n",
      "Total params: 11,905\n",
      "Trainable params: 11,905\n",
      "Non-trainable params: 0\n",
      "_________________________________________________________________\n"
     ]
    }
   ],
   "source": [
    "model = tf.keras.models.Sequential([\n",
    "    tf.keras.layers.Dense(128, activation = 'relu', input_shape = (11, )),\n",
    "    tf.keras.layers.Dense(64, activation = 'relu'),\n",
    "    tf.keras.layers.Dropout(0.2),\n",
    "    tf.keras.layers.Dense(32, activation = 'relu'),\n",
    "    tf.keras.layers.Dropout(0.2),\n",
    "    tf.keras.layers.Dense(1, activation = 'linear')\n",
    "])\n",
    "\n",
    "model.summary()"
   ]
  },
  {
   "cell_type": "code",
   "execution_count": 15,
   "id": "6bae32a2",
   "metadata": {},
   "outputs": [],
   "source": [
    "from sklearn.metrics import r2_score\n",
    "\n",
    "def r2_metric(y_true, y_pred):\n",
    "    y_true_np = tf.reshape(y_true, [-1])\n",
    "    y_pred_np = tf.reshape(y_pred, [-1])\n",
    "\n",
    "    # Convert TensorFlow tensors to NumPy arrays using `tf.py_function`\n",
    "    r2 = tf.py_function(r2_score, [y_true_np, y_pred_np], Tout=tf.float64)\n",
    "    return r2"
   ]
  },
  {
   "cell_type": "code",
   "execution_count": 16,
   "id": "b99bbe22",
   "metadata": {},
   "outputs": [],
   "source": [
    "from tensorflow.keras.optimizers import Adam\n",
    "\n",
    "model.compile(loss = 'mae', optimizer = Adam(learning_rate = 0.01), metrics = ['mse', 'mae', r2_metric])"
   ]
  },
  {
   "cell_type": "code",
   "execution_count": 17,
   "id": "2d1594b2",
   "metadata": {},
   "outputs": [],
   "source": [
    "from tensorflow.keras.callbacks import ReduceLROnPlateau\n",
    "\n",
    "learning_rate_reduction = ReduceLROnPlateau(monitor = 'val_mae',\n",
    "                                            patience = 3,\n",
    "                                            verbose = 1,\n",
    "                                            factor = 0.5,\n",
    "                                            min_lr = 0.0000001)"
   ]
  },
  {
   "cell_type": "code",
   "execution_count": 18,
   "id": "b5ab4893",
   "metadata": {},
   "outputs": [
    {
     "name": "stdout",
     "output_type": "stream",
     "text": [
      "\n",
      "Epoch 28: ReduceLROnPlateau reducing learning rate to 0.004999999888241291.\n",
      "\n",
      "Epoch 31: ReduceLROnPlateau reducing learning rate to 0.0024999999441206455.\n",
      "\n",
      "Epoch 34: ReduceLROnPlateau reducing learning rate to 0.0012499999720603228.\n",
      "\n",
      "Epoch 37: ReduceLROnPlateau reducing learning rate to 0.0006249999860301614.\n",
      "\n",
      "Epoch 40: ReduceLROnPlateau reducing learning rate to 0.0003124999930150807.\n",
      "\n",
      "Epoch 43: ReduceLROnPlateau reducing learning rate to 0.00015624999650754035.\n",
      "\n",
      "Epoch 46: ReduceLROnPlateau reducing learning rate to 7.812499825377017e-05.\n",
      "\n",
      "Epoch 49: ReduceLROnPlateau reducing learning rate to 3.9062499126885086e-05.\n",
      "\n",
      "Epoch 52: ReduceLROnPlateau reducing learning rate to 1.9531249563442543e-05.\n",
      "\n",
      "Epoch 55: ReduceLROnPlateau reducing learning rate to 9.765624781721272e-06.\n",
      "\n",
      "Epoch 58: ReduceLROnPlateau reducing learning rate to 4.882812390860636e-06.\n",
      "\n",
      "Epoch 61: ReduceLROnPlateau reducing learning rate to 2.441406195430318e-06.\n",
      "\n",
      "Epoch 64: ReduceLROnPlateau reducing learning rate to 1.220703097715159e-06.\n",
      "\n",
      "Epoch 67: ReduceLROnPlateau reducing learning rate to 6.103515488575795e-07.\n",
      "\n",
      "Epoch 70: ReduceLROnPlateau reducing learning rate to 3.0517577442878974e-07.\n",
      "\n",
      "Epoch 73: ReduceLROnPlateau reducing learning rate to 1.5258788721439487e-07.\n",
      "\n",
      "Epoch 76: ReduceLROnPlateau reducing learning rate to 1e-07.\n"
     ]
    }
   ],
   "source": [
    "batch_size = 16\n",
    "train_data = len(norm_X_train)\n",
    "val_data = len(norm_X_val)\n",
    "steps_per_epoch = train_data // batch_size\n",
    "validation_steps = val_data // batch_size\n",
    "\n",
    "history = model.fit(\n",
    "    norm_X_train,\n",
    "    y_train,\n",
    "    batch_size = batch_size,\n",
    "    epochs = 200,\n",
    "    steps_per_epoch = steps_per_epoch,\n",
    "    verbose = 0,\n",
    "    validation_data = (norm_X_val, y_val),\n",
    "    validation_steps = validation_steps,\n",
    "    callbacks = [learning_rate_reduction]\n",
    ")"
   ]
  },
  {
   "cell_type": "code",
   "execution_count": 19,
   "id": "9da1938c",
   "metadata": {},
   "outputs": [
    {
     "data": {
      "image/png": "[encoded data removed]",
      "text/plain": [
       "<Figure size 1000x400 with 2 Axes>"
      ]
     },
     "metadata": {},
     "output_type": "display_data"
    }
   ],
   "source": [
    "fig, axes = plt.subplots(1, 2, figsize=(10, 4))\n",
    "\n",
    "titles = ['Loss', 'MSE']\n",
    "metrics = ['loss', 'mse']\n",
    "labels = ['Training', 'Validation']\n",
    "\n",
    "for i, (metric, title) in enumerate(zip(metrics, titles)):\n",
    "#     ax = axes[i // 2, i % 2]\n",
    "    ax = axes[i]\n",
    "    ax.plot(history.history[metric], label = f'{labels[0]} {title}')\n",
    "    ax.plot(history.history[f'val_{metric}'], label = f'{labels[1]} {title}')\n",
    "    ax.set_title(f'Model Training and Validation {title}')\n",
    "    ax.set_xlabel('Epochs')\n",
    "    ax.set_ylabel(title)\n",
    "#     ax.set_xlim(0, 19)\n",
    "#     ax.set_xticks(np.arange(0, 19, step = 1))\n",
    "    ax.legend()\n",
    "\n",
    "# fig.delaxes(axes[1, 1])\n",
    "plt.tight_layout()\n",
    "plt.show()"
   ]
  },
  {
   "cell_type": "code",
   "execution_count": 20,
   "id": "a16ac27c",
   "metadata": {},
   "outputs": [
    {
     "name": "stdout",
     "output_type": "stream",
     "text": [
      "Min MAE on validation set: 2605.515\n",
      "Min MSE on validation set: 30064332.000\n",
      "Min RMSE on validation set: 5483.095\n",
      "Max R2 on validation set: 0.758\n",
      "\n",
      "5/5 [==============================] - 0s 6ms/step - loss: 1634.1654 - mse: 18360688.0000 - mae: 1634.1654 - r2_metric: 0.8473\n",
      "Test MAE: 1634.17 \n",
      "Test MSE: 18360688.0 \n",
      "Test RMSE: 4284.94 \n",
      "Test R2: 0.85\n"
     ]
    }
   ],
   "source": [
    "min_val_mae = min(history.history['val_loss'])\n",
    "min_val_mse = min(history.history['val_mse'])\n",
    "max_val_r2 = max(history.history['val_r2_metric'])\n",
    "print(f'Min MAE on validation set: {min_val_mae:.3f}')\n",
    "print(f'Min MSE on validation set: {min_val_mse:.3f}')\n",
    "print(f'Min RMSE on validation set: {np.sqrt(min_val_mse):.3f}')\n",
    "print(f'Max R2 on validation set: {max_val_r2:.3f}')\n",
    "print()\n",
    "\n",
    "results = model.evaluate(norm_X_test, y_test)\n",
    "print(f'Test MAE: {round(results[0], 2)} \\nTest MSE: {round(results[1], 2)} \\nTest RMSE: {round(np.sqrt(results[1]), 2)} \\nTest R2: {round(results[3], 2)}')"
   ]
  },
  {
   "cell_type": "markdown",
   "id": "4292fb57",
   "metadata": {},
   "source": [
    "## <a id='Model_Comparison' href=#1> Model Comparison </a>"
   ]
  },
  {
   "cell_type": "markdown",
   "id": "b2e3ab9a",
   "metadata": {},
   "source": [
    "Comparison of error and R^2 scores for traditional machine learning algorithms and neural network:"
   ]
  },
  {
   "cell_type": "markdown",
   "id": "3dfbc14a",
   "metadata": {},
   "source": [
    "![DS-ML Algorithm Results Image](Data/DS-ML_Algorithm_Results.JPG)"
   ]
  },
  {
   "cell_type": "markdown",
   "id": "c0d037a5",
   "metadata": {},
   "source": [
    "<center>\n",
    "    <span>\n",
    "        Neural Network: &emsp;&emsp; \n",
    "        <b>MAE:</b> 1634.17 &emsp;&emsp; \n",
    "        <b>MAPE:</b> - &emsp;&emsp; \n",
    "        <b>RMSE:</b> 4284.94 &emsp;&emsp;\n",
    "        <b>R^2:</b> 0.85\n",
    "    </span>\n",
    "</center>"
   ]
  },
  {
   "cell_type": "markdown",
   "id": "7f607979",
   "metadata": {},
   "source": [
    "## <a id='Conclusion' href=#1> Conclusion </a>"
   ]
  },
  {
   "cell_type": "markdown",
   "id": "35987371",
   "metadata": {},
   "source": [
    "Based on the results of this project, we can conclude that:\n",
    "1. We can achieve better results for prediction models by using **deep learning** rather than traditional machine learning algorithms.\n",
    "2. The **best model is the Neural Network Model**. It has a **MAE of 1634, RMSE of 4285 and R^2 of 0.85** which performs better than the extreme gradient boosting (grid_xgb) model. This means that the predictions of the neural network model will have lesser error, less susceptible to outliers and relates the features to the target the best."
   ]
  }
 ],
 "metadata": {
  "kernelspec": {
   "display_name": "Python 3 (ipykernel)",
   "language": "python",
   "name": "python3"
  },
  "language_info": {
   "codemirror_mode": {
    "name": "ipython",
    "version": 3
   },
   "file_extension": ".py",
   "mimetype": "text/x-python",
   "name": "python",
   "nbconvert_exporter": "python",
   "pygments_lexer": "ipython3",
   "version": "3.9.0"
  }
 },
 "nbformat": 4,
 "nbformat_minor": 5
}
